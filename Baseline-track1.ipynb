{
 "cells": [
  {
   "cell_type": "code",
   "execution_count": null,
   "metadata": {},
   "outputs": [],
   "source": [
    "#7526.02 паблик\n",
    "#7583.8 приват"
   ]
  },
  {
   "cell_type": "code",
   "execution_count": 1,
   "metadata": {},
   "outputs": [],
   "source": [
    "import os\n",
    "import numpy as np\n",
    "import pandas as pd\n",
    "import swifter\n",
    "from sklearn.model_selection import train_test_split, cross_val_score\n",
    "import utils\n",
    "import catboost"
   ]
  },
  {
   "cell_type": "code",
   "execution_count": 2,
   "metadata": {},
   "outputs": [],
   "source": [
    "from xgboost import XGBClassifier\n",
    "from catboost import  CatBoostClassifier\n",
    "import lightgbm as lgb\n",
    "from lightgbm import LGBMClassifier"
   ]
  },
  {
   "cell_type": "code",
   "execution_count": 3,
   "metadata": {},
   "outputs": [],
   "source": [
    "import scoring"
   ]
  },
  {
   "cell_type": "code",
   "execution_count": 4,
   "metadata": {},
   "outputs": [],
   "source": [
    "from bayes_opt import BayesianOptimization"
   ]
  },
  {
   "cell_type": "code",
   "execution_count": 6,
   "metadata": {},
   "outputs": [],
   "source": [
    "DATA_PATH = \"./data\""
   ]
  },
  {
   "cell_type": "code",
   "execution_count": null,
   "metadata": {},
   "outputs": [],
   "source": [
    "full_train = utils.load_train_hdf(DATA_PATH)"
   ]
  },
  {
   "cell_type": "code",
   "execution_count": null,
   "metadata": {
    "scrolled": false
   },
   "outputs": [],
   "source": [
    "full_train.columns"
   ]
  },
  {
   "cell_type": "code",
   "execution_count": 9,
   "metadata": {},
   "outputs": [
    {
     "name": "stderr",
     "output_type": "stream",
     "text": [
      "Pandas Apply: 100%|██████████| 5445705/5445705 [1:12:13<00:00, 1256.65it/s]\n"
     ]
    }
   ],
   "source": [
    "# This will take a while... We welcome your solutions on fast processing of jagged arrays\n",
    "closest_hits_features = full_train.swifter.apply(\n",
    "    utils.find_closest_hit_per_station, result_type=\"expand\", axis=1)"
   ]
  },
  {
   "cell_type": "code",
   "execution_count": 10,
   "metadata": {},
   "outputs": [],
   "source": [
    "train_concat = pd.concat(\n",
    "    [full_train.loc[:, utils.SIMPLE_FEATURE_COLUMNS],\n",
    "     closest_hits_features], axis=1)"
   ]
  },
  {
   "cell_type": "code",
   "execution_count": 23,
   "metadata": {},
   "outputs": [],
   "source": [
    "full_test = utils.load_full_test_csv(DATA_PATH)"
   ]
  },
  {
   "cell_type": "code",
   "execution_count": 24,
   "metadata": {
    "scrolled": false
   },
   "outputs": [
    {
     "data": {
      "text/plain": [
       "Index(['ncl[0]', 'ncl[1]', 'ncl[2]', 'ncl[3]', 'avg_cs[0]', 'avg_cs[1]',\n",
       "       'avg_cs[2]', 'avg_cs[3]', 'ndof', 'MatchedHit_TYPE[0]',\n",
       "       'MatchedHit_TYPE[1]', 'MatchedHit_TYPE[2]', 'MatchedHit_TYPE[3]',\n",
       "       'MatchedHit_X[0]', 'MatchedHit_X[1]', 'MatchedHit_X[2]',\n",
       "       'MatchedHit_X[3]', 'MatchedHit_Y[0]', 'MatchedHit_Y[1]',\n",
       "       'MatchedHit_Y[2]', 'MatchedHit_Y[3]', 'MatchedHit_Z[0]',\n",
       "       'MatchedHit_Z[1]', 'MatchedHit_Z[2]', 'MatchedHit_Z[3]',\n",
       "       'MatchedHit_DX[0]', 'MatchedHit_DX[1]', 'MatchedHit_DX[2]',\n",
       "       'MatchedHit_DX[3]', 'MatchedHit_DY[0]', 'MatchedHit_DY[1]',\n",
       "       'MatchedHit_DY[2]', 'MatchedHit_DY[3]', 'MatchedHit_DZ[0]',\n",
       "       'MatchedHit_DZ[1]', 'MatchedHit_DZ[2]', 'MatchedHit_DZ[3]',\n",
       "       'MatchedHit_T[0]', 'MatchedHit_T[1]', 'MatchedHit_T[2]',\n",
       "       'MatchedHit_T[3]', 'MatchedHit_DT[0]', 'MatchedHit_DT[1]',\n",
       "       'MatchedHit_DT[2]', 'MatchedHit_DT[3]', 'Lextra_X[0]', 'Lextra_X[1]',\n",
       "       'Lextra_X[2]', 'Lextra_X[3]', 'Lextra_Y[0]', 'Lextra_Y[1]',\n",
       "       'Lextra_Y[2]', 'Lextra_Y[3]', 'NShared', 'Mextra_DX2[0]',\n",
       "       'Mextra_DX2[1]', 'Mextra_DX2[2]', 'Mextra_DX2[3]', 'Mextra_DY2[0]',\n",
       "       'Mextra_DY2[1]', 'Mextra_DY2[2]', 'Mextra_DY2[3]', 'FOI_hits_N',\n",
       "       'FOI_hits_X', 'FOI_hits_Y', 'FOI_hits_Z', 'FOI_hits_DX', 'FOI_hits_DY',\n",
       "       'FOI_hits_T', 'FOI_hits_S', 'PT', 'P'],\n",
       "      dtype='object')"
      ]
     },
     "execution_count": 24,
     "metadata": {},
     "output_type": "execute_result"
    }
   ],
   "source": [
    "full_test.columns"
   ]
  },
  {
   "cell_type": "code",
   "execution_count": 25,
   "metadata": {},
   "outputs": [
    {
     "name": "stderr",
     "output_type": "stream",
     "text": [
      "Pandas Apply: 100%|██████████| 726095/726095 [07:14<00:00, 1670.01it/s]\n"
     ]
    }
   ],
   "source": [
    "closest_hits_features = full_test.swifter.apply(\n",
    "    utils.find_closest_hit_per_station, result_type=\"expand\", axis=1)"
   ]
  },
  {
   "cell_type": "code",
   "execution_count": 26,
   "metadata": {},
   "outputs": [],
   "source": [
    "test_concat = pd.concat(\n",
    "    [full_test.loc[:, utils.SIMPLE_FEATURE_COLUMNS],\n",
    "     closest_hits_features], axis=1)"
   ]
  },
  {
   "cell_type": "code",
   "execution_count": 7,
   "metadata": {},
   "outputs": [],
   "source": [
    "#import utils1\n",
    "\n",
    "def load_private_test_csv(path):\n",
    "    converters = dict(zip(FOI_COLUMNS, repeat(parse_array)))\n",
    "    types = dict(zip(SIMPLE_FEATURE_COLUMNS, repeat(np.float32)))\n",
    "    test = pd.read_csv(os.path.join(path, \"test_private.csv.gz\"),\n",
    "                       index_col=\"id\", converters=converters,\n",
    "                       dtype=types,\n",
    "                       usecols=[ID_COLUMN]+SIMPLE_FEATURE_COLUMNS+FOI_COLUMNS)\n",
    "    return test"
   ]
  },
  {
   "cell_type": "code",
   "execution_count": 8,
   "metadata": {},
   "outputs": [
    {
     "name": "stderr",
     "output_type": "stream",
     "text": [
      "/home/tanya/anaconda3/lib/python3.6/site-packages/numpy/lib/arraysetops.py:522: FutureWarning: elementwise comparison failed; returning scalar instead, but in the future will perform elementwise comparison\n",
      "  mask |= (ar1 == a)\n"
     ]
    }
   ],
   "source": [
    "private_test = utils1.load_private_test_csv(DATA_PATH)"
   ]
  },
  {
   "cell_type": "code",
   "execution_count": 9,
   "metadata": {},
   "outputs": [
    {
     "data": {
      "text/plain": [
       "Index(['ncl[0]', 'ncl[1]', 'ncl[2]', 'ncl[3]', 'avg_cs[0]', 'avg_cs[1]',\n",
       "       'avg_cs[2]', 'avg_cs[3]', 'ndof', 'MatchedHit_TYPE[0]',\n",
       "       'MatchedHit_TYPE[1]', 'MatchedHit_TYPE[2]', 'MatchedHit_TYPE[3]',\n",
       "       'MatchedHit_X[0]', 'MatchedHit_X[1]', 'MatchedHit_X[2]',\n",
       "       'MatchedHit_X[3]', 'MatchedHit_Y[0]', 'MatchedHit_Y[1]',\n",
       "       'MatchedHit_Y[2]', 'MatchedHit_Y[3]', 'MatchedHit_Z[0]',\n",
       "       'MatchedHit_Z[1]', 'MatchedHit_Z[2]', 'MatchedHit_Z[3]',\n",
       "       'MatchedHit_DX[0]', 'MatchedHit_DX[1]', 'MatchedHit_DX[2]',\n",
       "       'MatchedHit_DX[3]', 'MatchedHit_DY[0]', 'MatchedHit_DY[1]',\n",
       "       'MatchedHit_DY[2]', 'MatchedHit_DY[3]', 'MatchedHit_DZ[0]',\n",
       "       'MatchedHit_DZ[1]', 'MatchedHit_DZ[2]', 'MatchedHit_DZ[3]',\n",
       "       'MatchedHit_T[0]', 'MatchedHit_T[1]', 'MatchedHit_T[2]',\n",
       "       'MatchedHit_T[3]', 'MatchedHit_DT[0]', 'MatchedHit_DT[1]',\n",
       "       'MatchedHit_DT[2]', 'MatchedHit_DT[3]', 'Lextra_X[0]', 'Lextra_X[1]',\n",
       "       'Lextra_X[2]', 'Lextra_X[3]', 'Lextra_Y[0]', 'Lextra_Y[1]',\n",
       "       'Lextra_Y[2]', 'Lextra_Y[3]', 'NShared', 'Mextra_DX2[0]',\n",
       "       'Mextra_DX2[1]', 'Mextra_DX2[2]', 'Mextra_DX2[3]', 'Mextra_DY2[0]',\n",
       "       'Mextra_DY2[1]', 'Mextra_DY2[2]', 'Mextra_DY2[3]', 'FOI_hits_N',\n",
       "       'FOI_hits_X', 'FOI_hits_Y', 'FOI_hits_Z', 'FOI_hits_DX', 'FOI_hits_DY',\n",
       "       'FOI_hits_T', 'FOI_hits_S', 'PT', 'P'],\n",
       "      dtype='object')"
      ]
     },
     "execution_count": 9,
     "metadata": {},
     "output_type": "execute_result"
    }
   ],
   "source": [
    "private_test.columns"
   ]
  },
  {
   "cell_type": "code",
   "execution_count": 10,
   "metadata": {},
   "outputs": [
    {
     "name": "stderr",
     "output_type": "stream",
     "text": [
      "Pandas Apply: 100%|██████████| 1452188/1452188 [14:34<00:00, 1660.44it/s]\n"
     ]
    }
   ],
   "source": [
    "closest_hits_features = private_test.swifter.apply(\n",
    "    utils.find_closest_hit_per_station, result_type=\"expand\", axis=1)"
   ]
  },
  {
   "cell_type": "code",
   "execution_count": 11,
   "metadata": {},
   "outputs": [],
   "source": [
    "test_private_concat = pd.concat(\n",
    "    [private_test.loc[:, utils.SIMPLE_FEATURE_COLUMNS],\n",
    "     closest_hits_features], axis=1)"
   ]
  },
  {
   "cell_type": "code",
   "execution_count": 12,
   "metadata": {},
   "outputs": [
    {
     "data": {
      "text/plain": [
       "Index([            'ncl[0]',             'ncl[1]',             'ncl[2]',\n",
       "                   'ncl[3]',          'avg_cs[0]',          'avg_cs[1]',\n",
       "                'avg_cs[2]',          'avg_cs[3]',               'ndof',\n",
       "       'MatchedHit_TYPE[0]', 'MatchedHit_TYPE[1]', 'MatchedHit_TYPE[2]',\n",
       "       'MatchedHit_TYPE[3]',    'MatchedHit_X[0]',    'MatchedHit_X[1]',\n",
       "          'MatchedHit_X[2]',    'MatchedHit_X[3]',    'MatchedHit_Y[0]',\n",
       "          'MatchedHit_Y[1]',    'MatchedHit_Y[2]',    'MatchedHit_Y[3]',\n",
       "          'MatchedHit_Z[0]',    'MatchedHit_Z[1]',    'MatchedHit_Z[2]',\n",
       "          'MatchedHit_Z[3]',   'MatchedHit_DX[0]',   'MatchedHit_DX[1]',\n",
       "         'MatchedHit_DX[2]',   'MatchedHit_DX[3]',   'MatchedHit_DY[0]',\n",
       "         'MatchedHit_DY[1]',   'MatchedHit_DY[2]',   'MatchedHit_DY[3]',\n",
       "         'MatchedHit_DZ[0]',   'MatchedHit_DZ[1]',   'MatchedHit_DZ[2]',\n",
       "         'MatchedHit_DZ[3]',    'MatchedHit_T[0]',    'MatchedHit_T[1]',\n",
       "          'MatchedHit_T[2]',    'MatchedHit_T[3]',   'MatchedHit_DT[0]',\n",
       "         'MatchedHit_DT[1]',   'MatchedHit_DT[2]',   'MatchedHit_DT[3]',\n",
       "              'Lextra_X[0]',        'Lextra_X[1]',        'Lextra_X[2]',\n",
       "              'Lextra_X[3]',        'Lextra_Y[0]',        'Lextra_Y[1]',\n",
       "              'Lextra_Y[2]',        'Lextra_Y[3]',            'NShared',\n",
       "            'Mextra_DX2[0]',      'Mextra_DX2[1]',      'Mextra_DX2[2]',\n",
       "            'Mextra_DX2[3]',      'Mextra_DY2[0]',      'Mextra_DY2[1]',\n",
       "            'Mextra_DY2[2]',      'Mextra_DY2[3]',         'FOI_hits_N',\n",
       "                       'PT',                  'P',                    0,\n",
       "                          1,                    2,                    3,\n",
       "                          4,                    5,                    6,\n",
       "                          7,                    8,                    9,\n",
       "                         10,                   11,                   12,\n",
       "                         13,                   14,                   15,\n",
       "                         16,                   17,                   18,\n",
       "                         19,                   20,                   21,\n",
       "                         22,                   23],\n",
       "      dtype='object')"
      ]
     },
     "execution_count": 12,
     "metadata": {},
     "output_type": "execute_result"
    }
   ],
   "source": [
    "test_private_concat.columns"
   ]
  },
  {
   "cell_type": "code",
   "execution_count": 84,
   "metadata": {},
   "outputs": [],
   "source": [
    "X_train, X_valid, Y_train, Y_valid = train_test_split(train_concat, full_train, test_size=0.05, \n",
    "                                                      random_state=42, shuffle = True)"
   ]
  },
  {
   "cell_type": "code",
   "execution_count": 93,
   "metadata": {},
   "outputs": [],
   "source": [
    "#abs_weights = np.abs(Y_train.weight)\n",
    "abs_weights = np.abs(full_train.weight)"
   ]
  },
  {
   "cell_type": "code",
   "execution_count": 54,
   "metadata": {},
   "outputs": [],
   "source": [
    "model_fat = catboost.CatBoostClassifier(iterations=1200, max_depth=8, random_state=42, early_stopping_rounds=5,\n",
    "                                        task_type='GPU', loss_function = 'CrossEntropy',  verbose=False)"
   ]
  },
  {
   "cell_type": "code",
   "execution_count": null,
   "metadata": {},
   "outputs": [],
   "source": [
    "model_fat.fit(train_concat, full_train.label, sample_weight=abs_weights, eval_set=[(X_valid, Y_valid.label)], plot=True)"
   ]
  },
  {
   "cell_type": "code",
   "execution_count": 136,
   "metadata": {},
   "outputs": [],
   "source": [
    "#model_fat.save_model(\"track_2_model.cbm\")"
   ]
  },
  {
   "cell_type": "code",
   "execution_count": 21,
   "metadata": {},
   "outputs": [
    {
     "data": {
      "text/plain": [
       "<catboost.core.CatBoostClassifier at 0x7f6afe8350b8>"
      ]
     },
     "execution_count": 21,
     "metadata": {},
     "output_type": "execute_result"
    }
   ],
   "source": [
    "#model_fat.load_model(\"track_2_model.cbm\", format='catboost')"
   ]
  },
  {
   "cell_type": "code",
   "execution_count": 31,
   "metadata": {},
   "outputs": [
    {
     "data": {
      "text/plain": [
       "((1452188, 89), (726095, 89))"
      ]
     },
     "execution_count": 31,
     "metadata": {},
     "output_type": "execute_result"
    }
   ],
   "source": [
    "test_private_concat.shape, test_concat.shape"
   ]
  },
  {
   "cell_type": "code",
   "execution_count": 65,
   "metadata": {},
   "outputs": [],
   "source": [
    "predict = model_fat.predict_proba(test_concat)[:, 1]"
   ]
  },
  {
   "cell_type": "code",
   "execution_count": 66,
   "metadata": {},
   "outputs": [],
   "source": [
    "pd.DataFrame(data={\"prediction\": predict}, index=full_test.index).to_csv(\"submission/submission_1.csv\", \n",
    "                                                                          index_label=\"id\")"
   ]
  },
  {
   "cell_type": "markdown",
   "metadata": {},
   "source": [
    "# BayesianOptimization"
   ]
  },
  {
   "cell_type": "code",
   "execution_count": 16,
   "metadata": {},
   "outputs": [],
   "source": [
    "def catcv(learning_rate, l2_leaf_reg):\n",
    "    params = {\n",
    "#        'depth': int(depth),\n",
    "#        'iterations': int(iterations),\n",
    "        'learning_rate': learning_rate,\n",
    "        'l2_leaf_reg': l2_leaf_reg,\n",
    "    }\n",
    "    \n",
    "    cat = catboost.CatBoostClassifier(\n",
    "        cat_features = [9, 10, 11, 12],\n",
    "        iterations=800,\n",
    "        subsample=0.66,\n",
    "        depth=8,\n",
    "        random_state=42,\n",
    "        logging_level='Silent',\n",
    "        bootstrap_type = 'Poisson',\n",
    "        task_type='GPU',\n",
    "        **params\n",
    "    )\n",
    "    \n",
    "    score = cross_val_score(cat, X_train, Y_train.label, scoring='balanced_accuracy', cv=3).mean()\n",
    "    \n",
    "    return score"
   ]
  },
  {
   "cell_type": "code",
   "execution_count": 17,
   "metadata": {},
   "outputs": [],
   "source": [
    "#cat\n",
    "optimizer = BayesianOptimization(catcv, {'learning_rate' :(0.18, 0.2),\n",
    "                                       'l2_leaf_reg' :(3.5, 5.5)}, \n",
    "                                 random_state=42)"
   ]
  },
  {
   "cell_type": "code",
   "execution_count": 18,
   "metadata": {},
   "outputs": [
    {
     "name": "stdout",
     "output_type": "stream",
     "text": [
      "|   iter    |  target   | l2_lea... | learni... |\n",
      "-------------------------------------------------\n",
      "| \u001b[0m 1       \u001b[0m | \u001b[0m 0.7313  \u001b[0m | \u001b[0m 4.249   \u001b[0m | \u001b[0m 0.199   \u001b[0m |\n",
      "| \u001b[0m 2       \u001b[0m | \u001b[0m 0.7311  \u001b[0m | \u001b[0m 4.964   \u001b[0m | \u001b[0m 0.192   \u001b[0m |\n",
      "| \u001b[0m 3       \u001b[0m | \u001b[0m 0.7313  \u001b[0m | \u001b[0m 3.812   \u001b[0m | \u001b[0m 0.1831  \u001b[0m |\n",
      "| \u001b[0m 4       \u001b[0m | \u001b[0m 0.7311  \u001b[0m | \u001b[0m 3.616   \u001b[0m | \u001b[0m 0.1973  \u001b[0m |\n",
      "| \u001b[95m 5       \u001b[0m | \u001b[95m 0.7314  \u001b[0m | \u001b[95m 4.702   \u001b[0m | \u001b[95m 0.1942  \u001b[0m |\n",
      "| \u001b[0m 6       \u001b[0m | \u001b[0m 0.731   \u001b[0m | \u001b[0m 5.5     \u001b[0m | \u001b[0m 0.1952  \u001b[0m |\n",
      "| \u001b[0m 7       \u001b[0m | \u001b[0m 0.7313  \u001b[0m | \u001b[0m 5.282   \u001b[0m | \u001b[0m 0.1917  \u001b[0m |\n",
      "| \u001b[0m 8       \u001b[0m | \u001b[0m 0.7311  \u001b[0m | \u001b[0m 5.453   \u001b[0m | \u001b[0m 0.1907  \u001b[0m |\n",
      "| \u001b[0m 9       \u001b[0m | \u001b[0m 0.7314  \u001b[0m | \u001b[0m 3.533   \u001b[0m | \u001b[0m 0.1993  \u001b[0m |\n",
      "| \u001b[0m 10      \u001b[0m | \u001b[0m 0.7313  \u001b[0m | \u001b[0m 3.572   \u001b[0m | \u001b[0m 0.1804  \u001b[0m |\n",
      "=================================================\n"
     ]
    }
   ],
   "source": [
    "optimizer.maximize(init_points=5, n_iter=5)"
   ]
  },
  {
   "cell_type": "code",
   "execution_count": 19,
   "metadata": {},
   "outputs": [
    {
     "name": "stdout",
     "output_type": "stream",
     "text": [
      "{'target': 0.7313886525765193, 'params': {'l2_leaf_reg': 4.702230023486417, 'learning_rate': 0.1941614515559209}}\n"
     ]
    }
   ],
   "source": [
    "print(optimizer.max)"
   ]
  },
  {
   "cell_type": "code",
   "execution_count": null,
   "metadata": {},
   "outputs": [],
   "source": []
  }
 ],
 "metadata": {
  "kernelspec": {
   "display_name": "Python 3",
   "language": "python",
   "name": "python3"
  },
  "language_info": {
   "codemirror_mode": {
    "name": "ipython",
    "version": 3
   },
   "file_extension": ".py",
   "mimetype": "text/x-python",
   "name": "python",
   "nbconvert_exporter": "python",
   "pygments_lexer": "ipython3",
   "version": "3.6.7"
  }
 },
 "nbformat": 4,
 "nbformat_minor": 2
}
